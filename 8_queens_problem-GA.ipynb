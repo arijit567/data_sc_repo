{
 "cells": [
  {
   "cell_type": "code",
   "execution_count": 21,
   "metadata": {},
   "outputs": [],
   "source": [
    "import numpy as np\n",
    "import sys"
   ]
  },
  {
   "cell_type": "code",
   "execution_count": 23,
   "metadata": {},
   "outputs": [],
   "source": [
    "nQueens = 8\n",
    "STOP_CTR = 28\n",
    "MUTATE = 0.000001\n",
    "MUTATE_FLAG = True\n",
    "MAX_ITER = 100000\n",
    "POPULATION = None"
   ]
  },
  {
   "cell_type": "code",
   "execution_count": 24,
   "metadata": {},
   "outputs": [],
   "source": [
    "class CreateBoardPos:\n",
    "    def __init__(self):\n",
    "        self.sequence = None\n",
    "        self.fitness = None\n",
    "        self.survival = None\n",
    "    def setSequence(self, val):\n",
    "        self.sequence = val\n",
    "    def setFitness(self, fitness):\n",
    "        self.fitness = fitness\n",
    "    def setSurvival(self, val):\n",
    "        self.survival = val\n",
    "    def getAttr(self):\n",
    "        return {'sequence':sequence, 'fitness':fitness, 'survival':survival}"
   ]
  },
  {
   "cell_type": "code",
   "execution_count": 25,
   "metadata": {},
   "outputs": [],
   "source": [
    "def fitness(chromosome = None):\n",
    "    clashes = 0\n",
    "    row_col_clashes = abs(len(chromosome) - len(np.unique(chromosome)))\n",
    "    clashes += row_col_clashes\n",
    "\n",
    "    # calculate diagonal clashes\n",
    "    for i in range(len(chromosome)):\n",
    "        for j in range(len(chromosome)):\n",
    "            if ( i != j):\n",
    "                dx = abs(i-j)\n",
    "                dy = abs(chromosome[i] - chromosome[j])\n",
    "                if(dx == dy):\n",
    "                    clashes += 1\n",
    "\n",
    "\n",
    "    return 28 - clashes\n"
   ]
  },
  {
   "cell_type": "code",
   "execution_count": 26,
   "metadata": {},
   "outputs": [],
   "source": [
    "def genchromosome():\n",
    "    global nQueens\n",
    "    init_distribution = np.arange(nQueens)\n",
    "    np.random.shuffle(init_distribution)\n",
    "    return init_distribution"
   ]
  },
  {
   "cell_type": "code",
   "execution_count": 27,
   "metadata": {},
   "outputs": [],
   "source": [
    "def genPopulation(population_size = 100):\n",
    "    global POPULATION\n",
    "\n",
    "    POPULATION = population_size\n",
    "\n",
    "    population = [CreateBoardPos() for i in range(population_size)]\n",
    "    for i in range(population_size):\n",
    "        population[i].setSequence(genchromosome())\n",
    "        population[i].setFitness(fitness(population[i].sequence))\n",
    "    \n",
    "    return population"
   ]
  },
  {
   "cell_type": "code",
   "execution_count": 28,
   "metadata": {},
   "outputs": [],
   "source": [
    "def getParent():\n",
    "    globals()\n",
    "    parent1, parent2 = None, None\n",
    "    summation_fitness = np.sum([x.fitness for x in population])\n",
    "    for each in population:\n",
    "        each.survival = each.fitness/(summation_fitness*1.0)\n",
    "    while True:\n",
    "        parent1_random = np.random.rand()\n",
    "        parent1_rn = [x for x in population if x.survival <= parent1_random]\n",
    "        try:\n",
    "            parent1 = parent1_rn[0]\n",
    "            break\n",
    "        except:\n",
    "                pass\n",
    "    while True:\n",
    "        parent2_random = np.random.rand()\n",
    "        parent2_rn = [x for x in population if x.survival <= parent2_random]\n",
    "        try:\n",
    "            t = np.random.randint(len(parent2_rn))\n",
    "            parent2 = parent2_rn[t]\n",
    "            if parent2 != parent1:\n",
    "                break\n",
    "            else:\n",
    "                 print (\"equal parents\")\n",
    "                 continue\n",
    "        except:\n",
    "                print (\"exception\")\n",
    "                continue\n",
    "    if parent1 is not None and parent2 is not None:\n",
    "        return parent1, parent2\n",
    "    else:\n",
    "        sys.exit(-1)"
   ]
  },
  {
   "cell_type": "code",
   "execution_count": 29,
   "metadata": {},
   "outputs": [],
   "source": [
    "def reproduce_crossover(parent1, parent2):\n",
    "    globals()\n",
    "    n = len(parent1.sequence)\n",
    "    c = np.random.randint(n, size=1)\n",
    "    child = CreateBoardPos()\n",
    "    child.sequence = []\n",
    "    child.sequence.extend(parent1.sequence[0:c])\n",
    "    child.sequence.extend(parent2.sequence[c:])\n",
    "    child.setFitness(fitness(child.sequence))\n",
    "    return child"
   ]
  },
  {
   "cell_type": "code",
   "execution_count": 30,
   "metadata": {},
   "outputs": [],
   "source": [
    "def mutate(child):\n",
    "    if child.survival < MUTATE:\n",
    "        c = np.random.randint(8)\n",
    "        child.sequence[c] = np.random.randint(8)\n",
    "    return child"
   ]
  },
  {
   "cell_type": "code",
   "execution_count": 31,
   "metadata": {},
   "outputs": [],
   "source": [
    "def GenAlgo(iteration):\n",
    "    print (\" #\"*10 ,\"Executing Genetic  generation : \", iteration , \" #\"*10)\n",
    "    globals()\n",
    "    newpopulation = []\n",
    "    for i in range(len(population)):\n",
    "        parent1, parent2 = getParent()\n",
    "        print (\"Parents generated : \", parent1, parent2)\n",
    "\n",
    "    child = reproduce_crossover(parent1, parent2)\n",
    "\n",
    "    if(MUTATE_FLAG):\n",
    "        child = mutate(child)\n",
    "        newpopulation.append(child)\n",
    "    return newpopulation"
   ]
  },
  {
   "cell_type": "code",
   "execution_count": 43,
   "metadata": {},
   "outputs": [],
   "source": [
    "def stop():\n",
    "    globals()\n",
    "    #print (population[0], \" printing population[0]\")\n",
    "    fitnessvals = [pos.fitness for pos in population]\n",
    "    if STOP_CTR in fitnessvals:\n",
    "        return True\n",
    "    if MAX_ITER == iteration:\n",
    "        return True\n",
    "    return False"
   ]
  },
  {
   "cell_type": "code",
   "execution_count": 44,
   "metadata": {},
   "outputs": [],
   "source": [
    "population = genPopulation(1000)"
   ]
  },
  {
   "cell_type": "code",
   "execution_count": 45,
   "metadata": {},
   "outputs": [],
   "source": [
    "#print (\"POPULATION size : \", len(population))"
   ]
  },
  {
   "cell_type": "code",
   "execution_count": 46,
   "metadata": {},
   "outputs": [],
   "source": [
    "iteration = 0;\n",
    "while not stop():\n",
    "    # keep iteratin till  you find the best position\n",
    "    population = GA(iteration)\n",
    "    iteration +=1 "
   ]
  },
  {
   "cell_type": "code",
   "execution_count": 47,
   "metadata": {},
   "outputs": [
    {
     "name": "stdout",
     "output_type": "stream",
     "text": [
      "Iteration number :  0\n",
      "[4 6 1 5 2 0 7 3]\n"
     ]
    }
   ],
   "source": [
    "print( \"Iteration number : \", iteration)\n",
    "for each in population:\n",
    "    if each.fitness == 28:\n",
    "        print(each.sequence)\n",
    "        #print(each.fitness)"
   ]
  },
  {
   "cell_type": "code",
   "execution_count": null,
   "metadata": {},
   "outputs": [],
   "source": []
  },
  {
   "cell_type": "code",
   "execution_count": null,
   "metadata": {},
   "outputs": [],
   "source": []
  }
 ],
 "metadata": {
  "kernelspec": {
   "display_name": "Python 3",
   "language": "python",
   "name": "python3"
  },
  "language_info": {
   "codemirror_mode": {
    "name": "ipython",
    "version": 3
   },
   "file_extension": ".py",
   "mimetype": "text/x-python",
   "name": "python",
   "nbconvert_exporter": "python",
   "pygments_lexer": "ipython3",
   "version": "3.7.0"
  }
 },
 "nbformat": 4,
 "nbformat_minor": 2
}
